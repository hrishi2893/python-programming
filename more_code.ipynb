{
 "cells": [
  {
   "cell_type": "code",
   "execution_count": 7,
   "metadata": {},
   "outputs": [],
   "source": [
    "# Read file sowpods .txt and print words which are palindrome\n",
    "\n",
    "def isPalindrome(word):\n",
    "    head = 0\n",
    "    tail = len(word) - 1\n",
    "    isPalindrome = True\n",
    "    while(head < tail):\n",
    "        if(word[head] != word[tail]):\n",
    "            isPalindrome = False\n",
    "            break\n",
    "        else:\n",
    "            head+=1\n",
    "            tail-=1\n",
    "    return isPalindrome  \n",
    "\n",
    "sowpods = open('./sowpods.txt', 'r')\n",
    "word = sowpods.readlines()\n",
    "cleanword = [word.strip() for word in word]\n",
    "for w in cleanword:\n",
    "    if(isPalindrome(word)):\n",
    "        print(word)\n",
    "\n",
    "\n",
    "      "
   ]
  }
 ],
 "metadata": {
  "kernelspec": {
   "display_name": "pfds",
   "language": "python",
   "name": "python3"
  },
  "language_info": {
   "codemirror_mode": {
    "name": "ipython",
    "version": 3
   },
   "file_extension": ".py",
   "mimetype": "text/x-python",
   "name": "python",
   "nbconvert_exporter": "python",
   "pygments_lexer": "ipython3",
   "version": "3.10.14"
  }
 },
 "nbformat": 4,
 "nbformat_minor": 2
}
