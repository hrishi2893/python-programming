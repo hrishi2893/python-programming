{
 "cells": [
  {
   "cell_type": "code",
   "execution_count": 1,
   "metadata": {},
   "outputs": [
    {
     "name": "stdout",
     "output_type": "stream",
     "text": [
      "hello world\n"
     ]
    }
   ],
   "source": [
    "print(\"hello world\")"
   ]
  },
  {
   "cell_type": "code",
   "execution_count": 1,
   "metadata": {},
   "outputs": [
    {
     "name": "stdout",
     "output_type": "stream",
     "text": [
      "[10, 'hello', 220.4]\n"
     ]
    }
   ],
   "source": [
    "list = [10, \"hello\", 220.4]\n",
    "print(list)"
   ]
  },
  {
   "cell_type": "code",
   "execution_count": 3,
   "metadata": {},
   "outputs": [
    {
     "name": "stdout",
     "output_type": "stream",
     "text": [
      "[{'name': 'call of duty', 'price': 2023.0}, {'name': 'GTA 6', 'price': 2025.0}]\n"
     ]
    }
   ],
   "source": [
    "games = [\n",
    "    {\n",
    "        \"name\": \"call of duty\",\n",
    "        \"price\": 2023.00\n",
    "    },\n",
    "    {\n",
    "        \"name\": \"GTA 6\",\n",
    "        \"price\": 2025.00\n",
    "    }\n",
    "]\n",
    "print(games)"
   ]
  },
  {
   "cell_type": "code",
   "execution_count": 4,
   "metadata": {},
   "outputs": [
    {
     "data": {
      "text/plain": [
       "list"
      ]
     },
     "execution_count": 4,
     "metadata": {},
     "output_type": "execute_result"
    }
   ],
   "source": [
    "type(games) #its a list type"
   ]
  },
  {
   "cell_type": "code",
   "execution_count": 6,
   "metadata": {},
   "outputs": [
    {
     "name": "stdout",
     "output_type": "stream",
     "text": [
      "I\n",
      "e\n"
     ]
    }
   ],
   "source": [
    "\n",
    "name = \"IPhone\"\n",
    "firstLetter = name[0] # index 0 , 1, 2, 3...\n",
    "print(firstLetter)\n",
    "\n",
    "lastLetter = name[-1] # reverse index -1 , -2, -3 ....\n",
    "print(lastLetter)"
   ]
  },
  {
   "cell_type": "code",
   "execution_count": 1,
   "metadata": {},
   "outputs": [
    {
     "data": {
      "text/plain": [
       "'r'"
      ]
     },
     "execution_count": 1,
     "metadata": {},
     "output_type": "execute_result"
    }
   ],
   "source": [
    "#slicing\n",
    "#[start:stop:step]\n",
    "name = \"Krishna\"\n",
    "name[0:7:2]\n",
    "\n",
    "#length of string\n",
    "len(name)\n",
    "\n",
    "value = 'Hello World'\n",
    "value[8]"
   ]
  },
  {
   "cell_type": "code",
   "execution_count": 15,
   "metadata": {},
   "outputs": [
    {
     "name": "stdout",
     "output_type": "stream",
     "text": [
      "this is a string INSERTED\n",
      "The quick brown fox\n",
      "The fox fox fox\n",
      "The quick brown fox\n",
      "this result was 0.1287001287001287\n",
      "this result was 0.129\n",
      "this result was      0.129\n",
      "Hello his name is Jose\n"
     ]
    }
   ],
   "source": [
    "#String format method and f-strings\n",
    "print('this is a string {}'.format('INSERTED'))\n",
    "\n",
    "#using index position\n",
    "print('The {2} {1} {0}'.format('fox', 'brown','quick'))\n",
    "\n",
    "print('The {0} {0} {0}'.format('fox', 'brown','quick'))\n",
    "\n",
    "# using key words\n",
    "print('The {q} {b} {f}'.format(f = 'fox', b = 'brown', q = 'quick'))\n",
    "\n",
    "#float formatting\n",
    "\n",
    "result = 100 / 777\n",
    "\n",
    "#change level of precision\n",
    "print('this result was {r}'.format(r=result))\n",
    "\n",
    "#Round of to 3 digit {value:width:precision} added white space\n",
    "print('this result was {r:1.3f}'.format(r=result))\n",
    "\n",
    "#Round of to 3 digit {value:width:precision}: width added white space\n",
    "print('this result was {r:10.3}'.format(r=result))\n",
    "\n",
    "\n",
    "#Other way f string literals\n",
    "\n",
    "name = \"Jose\"\n",
    "print(f'Hello his name is {name}')"
   ]
  },
  {
   "cell_type": "code",
   "execution_count": 25,
   "metadata": {},
   "outputs": [
    {
     "name": "stdout",
     "output_type": "stream",
     "text": [
      "['one', 'two', 'three', 'four', 'five']\n",
      "['One all caps', 'two', 'three', 'four', 'five']\n",
      "['One all caps', 'two', 'three', 'four', 'five', 'six']\n",
      "six\n",
      "popped list ['One all caps', 'two', 'three', 'four', 'five']\n",
      "sorted list ['a', 'b', 'c', 'e', 'x']\n"
     ]
    }
   ],
   "source": [
    "### Lists, List are mutable.\n",
    "\n",
    "my_list  = [1,2,3]\n",
    "my_list = ['String', 100, 23.2]\n",
    "len(my_list)\n",
    "\n",
    "my_list = ['one','two','three']\n",
    "my_list[0]\n",
    "\n",
    "#concat list\n",
    "another_list = ['four','five']\n",
    "new_list = my_list + another_list\n",
    "print(new_list)\n",
    "\n",
    "#slicing\n",
    "my_list[1:]\n",
    "\n",
    "#change list vaulue\n",
    "new_list[0] = 'One all caps'\n",
    "print(new_list)\n",
    "\n",
    "#append new item\n",
    "new_list.append('six')\n",
    "print(new_list)\n",
    "\n",
    "#remove item from list\n",
    "print(new_list.pop())\n",
    "print(f'popped list {new_list}')\n",
    "\n",
    "#remove using index position, default index position is -1\n",
    "new_list.pop(0)\n",
    "\n",
    "#sorting\n",
    "new_list = ['a', 'e', 'x', 'b', 'c']\n",
    "new_list.sort() # sorts in place.\n",
    "print(f'sorted list {new_list}')\n",
    "\n"
   ]
  },
  {
   "cell_type": "code",
   "execution_count": 35,
   "metadata": {},
   "outputs": [
    {
     "name": "stdout",
     "output_type": "stream",
     "text": [
      "value of key1 value1\n",
      "inside key 100\n",
      "d2 list {'k1': 100, 'k2': 200, 'k3': 300, 'k4': 500}\n",
      "all keys dict_keys(['k1', 'k2', 'k3', 'k4'])\n",
      "all keys dict_values([100, 200, 300, 500])\n"
     ]
    }
   ],
   "source": [
    "# dictionaries - stored unordered object in a key value pair\n",
    "# unordered cannot be sorted\n",
    "\n",
    "my_dict = { 'key1': 'value1', 'key2': 'value2'}\n",
    "print(f\"value of key1 {my_dict['key1']}\")\n",
    "\n",
    "# dict can hold list or other dict as well\n",
    "\n",
    "d = {'k1' : 123, 'k2': [0, 1 ,2], 'k3':{'insideKey': 100}}\n",
    "print(f\"inside key {d['k3']['insideKey']}\")\n",
    "\n",
    "# adding new value to a dict\n",
    "d2 = {'k1': 100, 'k2': 200, 'k3': 300}\n",
    "d2['k4'] = 500\n",
    "print(f'd2 list {d2}')\n",
    "\n",
    "# see all keys of dictonaries\n",
    "print(f'all keys {d2.keys()}')\n",
    "\n",
    "# see all values of dictonaries\n",
    "print(f'all keys {d2.values()}')"
   ]
  },
  {
   "cell_type": "code",
   "execution_count": 49,
   "metadata": {},
   "outputs": [
    {
     "name": "stdout",
     "output_type": "stream",
     "text": [
      "(1, 3, 5)\n",
      "('onion', 3, 3.04)\n",
      "count 3\n",
      "index 0\n"
     ]
    }
   ],
   "source": [
    "### Tuples \n",
    "# tuples are immutable. \n",
    "\n",
    "t = (1, 3, 5)\n",
    "t2 = ('onion', 3, 3.04)\n",
    "print(t)\n",
    "print(t2)\n",
    "\n",
    "t3 = ('a', 'a', 'a', 2, 3.01)\n",
    "#count number of occurance of element\n",
    "print(f\"count {t3.count('a')}\")\n",
    "\n",
    "#get first index of element\n",
    "print(f\"index {t3.index('a')}\")"
   ]
  },
  {
   "cell_type": "code",
   "execution_count": 54,
   "metadata": {},
   "outputs": [
    {
     "name": "stdout",
     "output_type": "stream",
     "text": [
      "my set {1, 'Two'}\n",
      "{1, 2, 4}\n"
     ]
    },
    {
     "data": {
      "text/plain": [
       "{'a', 'b'}"
      ]
     },
     "execution_count": 54,
     "metadata": {},
     "output_type": "execute_result"
    }
   ],
   "source": [
    "### Sets - Unordered collection of unique element\n",
    "mySet = set() # returns empty set\n",
    "mySet.add(1)\n",
    "mySet.add('Two')\n",
    "print(f'my set {mySet}')\n",
    "\n",
    "# casting a list to a set to get unique values\n",
    "myList = [1,1,1,2,2,2,4,4,4]\n",
    "newset = set(myList)\n",
    "print(newset)\n",
    "\n",
    "# newset2 = set(1,2,3,4,4,4,5,5) not allowed to pass element directly, but a list can be passed.\n",
    "\n",
    "d3 = { \"a\":10, \"b\": 20, \"a\": 30}\n",
    "set(d3)"
   ]
  },
  {
   "cell_type": "code",
   "execution_count": 55,
   "metadata": {},
   "outputs": [
    {
     "data": {
      "text/plain": [
       "False"
      ]
     },
     "execution_count": 55,
     "metadata": {},
     "output_type": "execute_result"
    }
   ],
   "source": [
    "### Booleans - True or False\n",
    "1 > 2\n"
   ]
  },
  {
   "cell_type": "code",
   "execution_count": 1,
   "metadata": {},
   "outputs": [
    {
     "name": "stdout",
     "output_type": "stream",
     "text": [
      "Writing myfile.txt\n"
     ]
    }
   ],
   "source": [
    "## Files, \n",
    "#create files\n",
    "%%writefile myfile.txt\n",
    "Hello this is a text file\n",
    "this is the second line\n",
    "this is the third line"
   ]
  },
  {
   "cell_type": "code",
   "execution_count": 13,
   "metadata": {},
   "outputs": [
    {
     "name": "stdout",
     "output_type": "stream",
     "text": [
      "Hello this is a text file\n",
      "this is the second line\n",
      "this is the third line\n",
      "this is line fourthis is line four\n",
      "Hello this is a text file\n",
      "this is the second line\n",
      "this is the third line\n",
      "this is line fourthis is line four\n"
     ]
    }
   ],
   "source": [
    "myfile = open('myfile.txt')\n",
    "\n",
    "# Read the file as a single string.\n",
    "myfile.read()\n",
    "\n",
    "# Read lines.\n",
    "# Here need to reset the cursor to 0 to again start reading from the begining.\n",
    "myfile.seek(0)\n",
    "myfile.readlines()\n",
    "\n",
    "## File locations.\n",
    "# opening a file saved in any location, provide the full file path\n",
    "# myFile = open(\"C:\\\\Users\\\\Username\\\\Folder\\\\test.txt\")\n",
    "# we can use pwd to get the current working directory\n",
    "\n",
    "# Best practice to close the file after use\n",
    "myfile.close()\n",
    "\n",
    "# Other ways, no need to worry about closing file.\n",
    "with open('myfile.txt') as myNewFile:\n",
    "    contents = myNewFile.read()\n",
    "    print(contents)\n",
    "\n",
    "# write to file\n",
    "# 'r' : read only, 'w': write only override file, \n",
    "# 'a': append only to file, 'r+' reading and wrrting, \n",
    "# 'w+' : reading and writing (overrides existing files or create a new file)\n",
    "with open('myfile.txt', 'r') as myNewFile:\n",
    "    contents = myNewFile.read()\n",
    "    print(contents)\n",
    "\n",
    "with open('myfile.txt', 'a') as myNewFile:\n",
    "    contents = myNewFile.write('this is line four')\n",
    "    print(contents)\n",
    "\n",
    "with open('myfile.txt', 'r') as myNewFile:\n",
    "    contents = myNewFile.read()\n",
    "    print(contents)\n",
    "\n",
    "\n",
    "with open('newFile.txt', 'w') as myNewFile:\n",
    "    contents = myNewFile.write('this is line four')\n",
    "    print(contents)"
   ]
  },
  {
   "cell_type": "code",
   "execution_count": 5,
   "metadata": {},
   "outputs": [
    {
     "name": "stdout",
     "output_type": "stream",
     "text": [
      "{'My': 2, 'name': 2, 'is': 2, 'hrishi.': 1, 'I': 1, 'am': 1, 'and': 1, 'ML': 1, 'egnineer.': 1, 'kumar': 1}\n"
     ]
    }
   ],
   "source": [
    "# Code - Count number of words\n",
    "\n",
    "sentence = \"My name is hrishi. I am and ML egnineer. My name is kumar\"\n",
    "words = sentence.split()\n",
    "\n",
    "result = dict()\n",
    "\n",
    "for word in words:\n",
    "    if(word in result):\n",
    "        result[word] = result[word] + 1\n",
    "    else:\n",
    "        result[word] = 1\n",
    "\n",
    "print(result)\n"
   ]
  },
  {
   "cell_type": "code",
   "execution_count": 7,
   "metadata": {},
   "outputs": [
    {
     "data": {
      "text/plain": [
       "' \\nif some_condition:\\n    do somethin\\nelif some_condition:\\n    do something\\nelse:\\n    do somethin \\n    \\n'"
      ]
     },
     "execution_count": 7,
     "metadata": {},
     "output_type": "execute_result"
    }
   ],
   "source": [
    "# Contro Flow\n",
    "\n",
    "\"\"\" \n",
    "if some_condition:\n",
    "    do somethin\n",
    "elif some_condition:\n",
    "    do something\n",
    "else:\n",
    "    do somethin \n",
    "    \n",
    "\"\"\""
   ]
  },
  {
   "cell_type": "code",
   "execution_count": 12,
   "metadata": {},
   "outputs": [
    {
     "name": "stdout",
     "output_type": "stream",
     "text": [
      "li\n",
      "pp\n",
      "ss\n",
      "number 10 is even\n",
      "number 20 is even\n",
      "number 13 is odd\n",
      "number 17 is odd\n",
      "number 15 is odd\n",
      "number 23 is odd\n",
      "number 32 is even\n",
      "number 19 is odd\n",
      "number 18 is even\n",
      "number 77 is odd\n",
      "first item in tuple 1\n",
      "first item in tuple 2\n",
      "first item in tuple 3\n",
      "k1\n",
      "k2\n",
      "k3\n"
     ]
    }
   ],
   "source": [
    "# For loops\n",
    "# Many object in python are iter\n",
    "\n",
    "words = ['li', 'pp', 'ss']\n",
    "\n",
    "for w in words:\n",
    "    print(w)\n",
    "\n",
    "# Find even number \n",
    "mylist = [10, 20, 13 ,17, 15, 23, 32, 19, 18, 77]\n",
    "\n",
    "for number in mylist:\n",
    "    if number % 2 == 0:\n",
    "        print(f'number {number} is even')\n",
    "    else:\n",
    "        print(f'number {number} is odd')\n",
    "\n",
    "# Tuple unpacking\n",
    "tup = [(1,3), (2,5), (3,4)]\n",
    "\n",
    "for a,b in tup:\n",
    "    print(f'first item in tuple {a}')\n",
    "\n",
    "# iterating over dictionary\n",
    "d  = {'k1': 1, 'k2':2, 'k3':4}\n",
    "for item in d:\n",
    "    print(item)"
   ]
  },
  {
   "cell_type": "code",
   "execution_count": 15,
   "metadata": {},
   "outputs": [
    {
     "name": "stdout",
     "output_type": "stream",
     "text": [
      "0\n",
      "1\n",
      "2\n",
      "3\n",
      "4\n",
      "5\n",
      "6\n",
      "7\n",
      "8\n",
      "9\n",
      "10\n",
      "20\n",
      "i is greated than 21\n"
     ]
    }
   ],
   "source": [
    "# While loops in python\n",
    "\n",
    "i = 0\n",
    "while(i <= 10):  # parentheses is not necessary\n",
    "    print(i)\n",
    "    i+=1\n",
    "\n",
    "# using else with while\n",
    "i = 20\n",
    "while i < 21:\n",
    "    print(i)\n",
    "    i+=1\n",
    "else:\n",
    "    print('i is greated than 21')\n",
    "    "
   ]
  },
  {
   "cell_type": "code",
   "execution_count": 19,
   "metadata": {},
   "outputs": [
    {
     "name": "stdout",
     "output_type": "stream",
     "text": [
      "1\n",
      "2\n",
      "3\n",
      "4\n",
      "5\n",
      "Passed\n",
      "item 10\n",
      "item 30\n"
     ]
    }
   ],
   "source": [
    "# Break continue and pass\n",
    "\n",
    "# Breaks out of the current closest enclosig loop\n",
    "\n",
    "i = 0\n",
    "\n",
    "while i < 10:\n",
    "    if(i == 5):\n",
    "        break\n",
    "    i+=1\n",
    "    print(i)\n",
    "\n",
    "# Pass - Does nothing\n",
    "list = [10, 20, 30]\n",
    "\n",
    "for item in list:\n",
    "    pass # does nothing\n",
    "\n",
    "print('Passed')\n",
    "\n",
    "# continue - goes to the top of the closest enclosing loop.\n",
    "\n",
    "for item in list:\n",
    "    if item == 20:\n",
    "        continue\n",
    "    print(f'item {item}')\n"
   ]
  },
  {
   "cell_type": "code",
   "execution_count": 32,
   "metadata": {},
   "outputs": [
    {
     "name": "stdout",
     "output_type": "stream",
     "text": [
      "0\n",
      "1\n",
      "2\n",
      "3\n",
      "4\n",
      "5\n",
      "6\n",
      "7\n",
      "8\n",
      "9\n",
      "\n",
      "\n",
      "3\n",
      "4\n",
      "5\n",
      "6\n",
      "7\n",
      "8\n",
      "9\n",
      "\n",
      "\n",
      "3\n",
      "5\n",
      "7\n",
      "9\n",
      "(0, 'a')\n",
      "(1, 'b')\n",
      "(2, 'c')\n",
      "(3, 'd')\n",
      "(4, 'e')\n",
      "\n",
      "\n",
      "(1, 'a')\n",
      "(2, 'b')\n",
      "(3, 'c')\n"
     ]
    },
    {
     "data": {
      "text/plain": [
       "False"
      ]
     },
     "execution_count": 32,
     "metadata": {},
     "output_type": "execute_result"
    }
   ],
   "source": [
    "# Useful opearators in python \n",
    "\n",
    "# range(start, end, step)\n",
    "for num in range(10):\n",
    "    print(num)\n",
    "\n",
    "print('\\n')\n",
    "\n",
    "for num in range(3, 10):\n",
    "    print(num)\n",
    "\n",
    "print('\\n')\n",
    "\n",
    "for num in range(3, 10, 2):\n",
    "    print(num)\n",
    "\n",
    "#enumerate - helps in counting for loops\n",
    "\n",
    "index_count = 0\n",
    "word = 'abcde'\n",
    "\n",
    "for letter in enumerate(word):\n",
    "    print(letter)\n",
    "    \"\"\" Retruns tuples with index:\n",
    "        (1, 'b')\n",
    "        (2, 'c')\n",
    "        (3, 'd')\n",
    "        (4, 'e')\n",
    "    \"\"\"\n",
    "\n",
    "# zip(list1, list2.....) \n",
    "\n",
    "list1 = [1, 2, 3]\n",
    "list2 = ['a', 'b', 'c']\n",
    "print('\\n')\n",
    "for item in zip(list1, list2):\n",
    "    print(item)\n",
    "\n",
    "#list(zip(list1, list2))"
   ]
  },
  {
   "cell_type": "code",
   "execution_count": 34,
   "metadata": {},
   "outputs": [
    {
     "data": {
      "text/plain": [
       "True"
      ]
     },
     "execution_count": 34,
     "metadata": {},
     "output_type": "execute_result"
    }
   ],
   "source": [
    "# in keyword\n",
    "'a' in 'abc'\n",
    "'mykey' in {'mykey': 345}\n",
    "\n",
    "d = {'mykey': 345}\n",
    "345 in d.values()"
   ]
  },
  {
   "cell_type": "code",
   "execution_count": null,
   "metadata": {},
   "outputs": [],
   "source": []
  },
  {
   "cell_type": "code",
   "execution_count": 43,
   "metadata": {},
   "outputs": [
    {
     "name": "stdout",
     "output_type": "stream",
     "text": [
      "min in list 10\n",
      "max in list 90\n",
      "[80, 10, 90, 20, 40, 30]\n",
      "random int 3\n"
     ]
    }
   ],
   "source": [
    "# Math functions.\n",
    "\n",
    "\n",
    "myList = [10, 20, 40, 90, 30, 80]\n",
    "\n",
    "print(f'min in list {min(myList)}')\n",
    "print(f'max in list {max(myList)}')\n",
    "\n",
    "\n",
    "# Random\n",
    "\n",
    "from random import shuffle\n",
    "# shuffles a list\n",
    "shuffle(myList) # in place shuffle\n",
    "print(myList)\n",
    "\n",
    "# get random int\n",
    "from random import randint\n",
    "print(f'random int {randint(0, 10)}') # in range 0 to 10\n",
    "\n",
    "# Getting user input\n",
    "# number = input('Enter number')\n"
   ]
  },
  {
   "cell_type": "code",
   "execution_count": 4,
   "metadata": {},
   "outputs": [
    {
     "name": "stdout",
     "output_type": "stream",
     "text": [
      "['P', 'l', 'a', 'n', 'e']\n",
      "[0, 1, 4, 9, 16, 25, 36, 49, 64, 81]\n",
      "[0, 2, 4, 6, 8, 10]\n"
     ]
    }
   ],
   "source": [
    "# List comprehension\n",
    "\n",
    "mystring = \"hello\"\n",
    "mylist = []\n",
    "for letter in mystring:\n",
    "    mylist.append(letter)\n",
    "\n",
    "# above can be done in a single line using list comprehension\n",
    "mylist1 = 'Plane'\n",
    "mylist = [letter for letter in mylist1] # [element for element in mylist]\n",
    "print(mylist)\n",
    "\n",
    "# we can do operations as well\n",
    "\n",
    "numbers = [num**2 for num in range(0, 10)]\n",
    "print(numbers)\n",
    "\n",
    "#using conditions\n",
    "numbers = [num for num in range(0, 11) if num%2 == 0]\n",
    "print(numbers)"
   ]
  }
 ],
 "metadata": {
  "kernelspec": {
   "display_name": "pfds",
   "language": "python",
   "name": "python3"
  },
  "language_info": {
   "codemirror_mode": {
    "name": "ipython",
    "version": 3
   },
   "file_extension": ".py",
   "mimetype": "text/x-python",
   "name": "python",
   "nbconvert_exporter": "python",
   "pygments_lexer": "ipython3",
   "version": "3.10.14"
  }
 },
 "nbformat": 4,
 "nbformat_minor": 2
}
